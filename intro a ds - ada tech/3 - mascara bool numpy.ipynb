{
 "cells": [
  {
   "cell_type": "code",
   "execution_count": 1,
   "id": "fc54d5f1",
   "metadata": {},
   "outputs": [],
   "source": [
    "#mascara booleana\n",
    "import numpy as np"
   ]
  },
  {
   "cell_type": "code",
   "execution_count": 2,
   "id": "ba730b87",
   "metadata": {},
   "outputs": [],
   "source": [
    "#criando uma array de exemplo\n",
    "covid_present = np.array(['Yes', 'No', 'No', 'No', 'Yes', 'No', 'Yes'])"
   ]
  },
  {
   "cell_type": "code",
   "execution_count": 3,
   "id": "4f3ed8cd",
   "metadata": {},
   "outputs": [
    {
     "data": {
      "text/plain": [
       "array(['Yes', 'No', 'No', 'No', 'Yes', 'No', 'Yes'], dtype='<U3')"
      ]
     },
     "execution_count": 3,
     "metadata": {},
     "output_type": "execute_result"
    }
   ],
   "source": [
    "#print demonstrativo\n",
    "covid_present"
   ]
  },
  {
   "cell_type": "code",
   "execution_count": 4,
   "id": "1e995d78",
   "metadata": {},
   "outputs": [],
   "source": [
    "#é uma funcionalidade que faz ser possivel o array ser lido em boolean\n",
    "#o que permite a mesma ser lida como True ou False e facilita a extração de insights\n",
    "mask = (covid_present == 'Yes')"
   ]
  },
  {
   "cell_type": "code",
   "execution_count": 6,
   "id": "637edf28",
   "metadata": {},
   "outputs": [],
   "source": [
    "#isso permite que ao acessar os dados do array ao inves de ir por posição\n",
    "#va pela mascara e pega só os elementos que passaram por ela\n",
    "# com isso é possivel editar os dados, ao inves de ser positivo vai demosntrar a doença\n",
    "covid_present[mask] = 'c19'"
   ]
  },
  {
   "cell_type": "code",
   "execution_count": 7,
   "id": "bff5aeaa",
   "metadata": {},
   "outputs": [
    {
     "name": "stdout",
     "output_type": "stream",
     "text": [
      "['c19' 'No' 'No' 'No' 'c19' 'No' 'c19']\n"
     ]
    }
   ],
   "source": [
    "#print demonstrativo\n",
    "print(covid_present)"
   ]
  },
  {
   "cell_type": "code",
   "execution_count": 10,
   "id": "bd490f80",
   "metadata": {},
   "outputs": [],
   "source": [
    "#desafio\n",
    "#agora exemplificando com numeros\n",
    "#fazer com a mascara com uma media estimativas como\n",
    "#quantas pessoas não atingiram\n",
    "#quantas passaram direto\n",
    "#editar o dado com um pos recuperação\n",
    "#acrescentar uma margem de recuperação e reprovado\n",
    "notas = np.array([1.2, 3.4, 5.2, 7.8, 9.6])"
   ]
  },
  {
   "cell_type": "code",
   "execution_count": 11,
   "id": "b4707a39",
   "metadata": {},
   "outputs": [
    {
     "name": "stdout",
     "output_type": "stream",
     "text": [
      "[1.2 3.4 5.2 7.8 9.6]\n"
     ]
    }
   ],
   "source": [
    "#print demonstrativo\n",
    "print(notas)"
   ]
  },
  {
   "cell_type": "code",
   "execution_count": null,
   "id": "efb4c971",
   "metadata": {},
   "outputs": [],
   "source": [
    "mark_notas = (notas >= 5)"
   ]
  }
 ],
 "metadata": {
  "kernelspec": {
   "display_name": "Python 3 (ipykernel)",
   "language": "python",
   "name": "python3"
  },
  "language_info": {
   "codemirror_mode": {
    "name": "ipython",
    "version": 3
   },
   "file_extension": ".py",
   "mimetype": "text/x-python",
   "name": "python",
   "nbconvert_exporter": "python",
   "pygments_lexer": "ipython3",
   "version": "3.11.3"
  }
 },
 "nbformat": 4,
 "nbformat_minor": 5
}
