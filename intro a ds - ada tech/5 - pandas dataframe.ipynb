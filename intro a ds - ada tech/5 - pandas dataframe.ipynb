{
 "cells": [
  {
   "cell_type": "code",
   "execution_count": 1,
   "id": "a618d717",
   "metadata": {},
   "outputs": [],
   "source": [
    "import pandas as pd"
   ]
  },
  {
   "cell_type": "code",
   "execution_count": 2,
   "id": "dcdd542c",
   "metadata": {},
   "outputs": [],
   "source": [
    "# dicionario com autores, titulos e preços\n",
    "dicti = {\"Autores\": [\"Bell Hooks\", \"Carla Madeira\", \"George R.R. Martin\"],\n",
    "        \"Obras\": [\"Tudo Sobre Amor\", \"Tudo É Rio\", \"Guerra dos Tronos\"],\n",
    "        \"Preços\": [59.90, 49.90, 69.90]} \n"
   ]
  },
  {
   "cell_type": "code",
   "execution_count": 3,
   "id": "0d63dbca",
   "metadata": {},
   "outputs": [
    {
     "data": {
      "text/html": [
       "<div>\n",
       "<style scoped>\n",
       "    .dataframe tbody tr th:only-of-type {\n",
       "        vertical-align: middle;\n",
       "    }\n",
       "\n",
       "    .dataframe tbody tr th {\n",
       "        vertical-align: top;\n",
       "    }\n",
       "\n",
       "    .dataframe thead th {\n",
       "        text-align: right;\n",
       "    }\n",
       "</style>\n",
       "<table border=\"1\" class=\"dataframe\">\n",
       "  <thead>\n",
       "    <tr style=\"text-align: right;\">\n",
       "      <th></th>\n",
       "      <th>Autores</th>\n",
       "      <th>Obras</th>\n",
       "      <th>Preços</th>\n",
       "    </tr>\n",
       "  </thead>\n",
       "  <tbody>\n",
       "    <tr>\n",
       "      <th>0</th>\n",
       "      <td>Bell Hooks</td>\n",
       "      <td>Tudo Sobre Amor</td>\n",
       "      <td>59.9</td>\n",
       "    </tr>\n",
       "    <tr>\n",
       "      <th>1</th>\n",
       "      <td>Carla Madeira</td>\n",
       "      <td>Tudo É Rio</td>\n",
       "      <td>49.9</td>\n",
       "    </tr>\n",
       "    <tr>\n",
       "      <th>2</th>\n",
       "      <td>George R.R. Martin</td>\n",
       "      <td>Guerra dos Tronos</td>\n",
       "      <td>69.9</td>\n",
       "    </tr>\n",
       "  </tbody>\n",
       "</table>\n",
       "</div>"
      ],
      "text/plain": [
       "              Autores              Obras  Preços\n",
       "0          Bell Hooks    Tudo Sobre Amor    59.9\n",
       "1       Carla Madeira         Tudo É Rio    49.9\n",
       "2  George R.R. Martin  Guerra dos Tronos    69.9"
      ]
     },
     "execution_count": 3,
     "metadata": {},
     "output_type": "execute_result"
    }
   ],
   "source": [
    "# declaração e exibição da df\n",
    "df = pd.DataFrame(dicti)\n",
    "df"
   ]
  },
  {
   "cell_type": "code",
   "execution_count": 4,
   "id": "d876fdb4",
   "metadata": {},
   "outputs": [
    {
     "data": {
      "text/plain": [
       "'Carla Madeira'"
      ]
     },
     "execution_count": 4,
     "metadata": {},
     "output_type": "execute_result"
    }
   ],
   "source": [
    "#pegando elementos do df\n",
    "#e pegando dessa maneira, uma coluna é como uma serie\n",
    "df['Autores'][1]"
   ]
  },
  {
   "cell_type": "code",
   "execution_count": 5,
   "id": "cf14a994",
   "metadata": {},
   "outputs": [
    {
     "data": {
      "text/plain": [
       "59.9"
      ]
     },
     "execution_count": 5,
     "metadata": {},
     "output_type": "execute_result"
    }
   ],
   "source": [
    "#tratando a coluna preços como series e fazer a media\n",
    "df['Preços'].mean()"
   ]
  },
  {
   "cell_type": "code",
   "execution_count": 6,
   "id": "abf99697",
   "metadata": {},
   "outputs": [
    {
     "data": {
      "text/plain": [
       "0     True\n",
       "1    False\n",
       "2    False\n",
       "Name: Autores, dtype: bool"
      ]
     },
     "execution_count": 6,
     "metadata": {},
     "output_type": "execute_result"
    }
   ],
   "source": [
    "#da tambem pra fazer uma filtragem como a mascara boolean\n",
    "#no video precisa transformar em var antes\n",
    "#nesse caso foi só montar o filtro e foi direto\n",
    "df['Autores'] == 'Bell Hooks'"
   ]
  },
  {
   "cell_type": "code",
   "execution_count": 7,
   "id": "e188b216",
   "metadata": {},
   "outputs": [],
   "source": [
    "#transformando em uma var da p gerar uma df\n",
    "mask = df['Autores'] == 'Carla Madeira'"
   ]
  },
  {
   "cell_type": "code",
   "execution_count": 15,
   "id": "ca466aad",
   "metadata": {},
   "outputs": [
    {
     "data": {
      "text/html": [
       "<div>\n",
       "<style scoped>\n",
       "    .dataframe tbody tr th:only-of-type {\n",
       "        vertical-align: middle;\n",
       "    }\n",
       "\n",
       "    .dataframe tbody tr th {\n",
       "        vertical-align: top;\n",
       "    }\n",
       "\n",
       "    .dataframe thead th {\n",
       "        text-align: right;\n",
       "    }\n",
       "</style>\n",
       "<table border=\"1\" class=\"dataframe\">\n",
       "  <thead>\n",
       "    <tr style=\"text-align: right;\">\n",
       "      <th></th>\n",
       "      <th>Autores</th>\n",
       "      <th>Obras</th>\n",
       "      <th>Preços</th>\n",
       "    </tr>\n",
       "  </thead>\n",
       "  <tbody>\n",
       "    <tr>\n",
       "      <th>1</th>\n",
       "      <td>Carla Madeira</td>\n",
       "      <td>Tudo É Rio</td>\n",
       "      <td>49.9</td>\n",
       "    </tr>\n",
       "  </tbody>\n",
       "</table>\n",
       "</div>"
      ],
      "text/plain": [
       "         Autores       Obras  Preços\n",
       "1  Carla Madeira  Tudo É Rio    49.9"
      ]
     },
     "execution_count": 15,
     "metadata": {},
     "output_type": "execute_result"
    }
   ],
   "source": [
    "#gerando a df\n",
    "df[mask]"
   ]
  },
  {
   "cell_type": "code",
   "execution_count": 24,
   "id": "2e28482b",
   "metadata": {},
   "outputs": [
    {
     "name": "stderr",
     "output_type": "stream",
     "text": [
      "C:\\Users\\camil\\AppData\\Local\\Temp\\ipykernel_6836\\3712844330.py:2: FutureWarning: The frame.append method is deprecated and will be removed from pandas in a future version. Use pandas.concat instead.\n",
      "  df = df.append({'Autores': 'Carla Madeira',\n"
     ]
    }
   ],
   "source": [
    "#adicionando dado novo com .append como a lista\n",
    "#da um warning de descontinuado o .append\n",
    "#o correto é criar uma df com a mudança e usar o pd.concat\n",
    "#colchete parentese com as duas df por , \n",
    "df = df.append({'Autores': 'Carla Madeira', \n",
    "          'Obras': 'Vespéra', \n",
    "          'Preços': 47.90}, ignore_index = True)"
   ]
  },
  {
   "cell_type": "code",
   "execution_count": 22,
   "id": "8e47cd3b",
   "metadata": {},
   "outputs": [
    {
     "data": {
      "text/html": [
       "<div>\n",
       "<style scoped>\n",
       "    .dataframe tbody tr th:only-of-type {\n",
       "        vertical-align: middle;\n",
       "    }\n",
       "\n",
       "    .dataframe tbody tr th {\n",
       "        vertical-align: top;\n",
       "    }\n",
       "\n",
       "    .dataframe thead th {\n",
       "        text-align: right;\n",
       "    }\n",
       "</style>\n",
       "<table border=\"1\" class=\"dataframe\">\n",
       "  <thead>\n",
       "    <tr style=\"text-align: right;\">\n",
       "      <th></th>\n",
       "      <th>Autores</th>\n",
       "      <th>Obras</th>\n",
       "      <th>Preços</th>\n",
       "    </tr>\n",
       "  </thead>\n",
       "  <tbody>\n",
       "    <tr>\n",
       "      <th>0</th>\n",
       "      <td>Bell Hooks</td>\n",
       "      <td>Tudo Sobre Amor</td>\n",
       "      <td>59.9</td>\n",
       "    </tr>\n",
       "    <tr>\n",
       "      <th>1</th>\n",
       "      <td>Carla Madeira</td>\n",
       "      <td>Tudo É Rio</td>\n",
       "      <td>49.9</td>\n",
       "    </tr>\n",
       "    <tr>\n",
       "      <th>2</th>\n",
       "      <td>George R.R. Martin</td>\n",
       "      <td>Guerra dos Tronos</td>\n",
       "      <td>69.9</td>\n",
       "    </tr>\n",
       "    <tr>\n",
       "      <th>3</th>\n",
       "      <td>Carla Madeira</td>\n",
       "      <td>Vespéra</td>\n",
       "      <td>47.9</td>\n",
       "    </tr>\n",
       "    <tr>\n",
       "      <th>4</th>\n",
       "      <td>Carla Madeira</td>\n",
       "      <td>Vespéra</td>\n",
       "      <td>47.9</td>\n",
       "    </tr>\n",
       "  </tbody>\n",
       "</table>\n",
       "</div>"
      ],
      "text/plain": [
       "              Autores              Obras  Preços\n",
       "0          Bell Hooks    Tudo Sobre Amor    59.9\n",
       "1       Carla Madeira         Tudo É Rio    49.9\n",
       "2  George R.R. Martin  Guerra dos Tronos    69.9\n",
       "3       Carla Madeira            Vespéra    47.9\n",
       "4       Carla Madeira            Vespéra    47.9"
      ]
     },
     "execution_count": 22,
     "metadata": {},
     "output_type": "execute_result"
    }
   ],
   "source": [
    "#testando\n",
    "df"
   ]
  },
  {
   "cell_type": "code",
   "execution_count": null,
   "id": "a6d126bd",
   "metadata": {},
   "outputs": [],
   "source": [
    "#desafio\n",
    "#montar uma df e adicionar um livro novo"
   ]
  }
 ],
 "metadata": {
  "kernelspec": {
   "display_name": "Python 3 (ipykernel)",
   "language": "python",
   "name": "python3"
  },
  "language_info": {
   "codemirror_mode": {
    "name": "ipython",
    "version": 3
   },
   "file_extension": ".py",
   "mimetype": "text/x-python",
   "name": "python",
   "nbconvert_exporter": "python",
   "pygments_lexer": "ipython3",
   "version": "3.11.3"
  }
 },
 "nbformat": 4,
 "nbformat_minor": 5
}
