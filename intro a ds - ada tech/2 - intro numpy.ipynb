{
 "cells": [
  {
   "cell_type": "code",
   "execution_count": 2,
   "id": "323fccd1",
   "metadata": {},
   "outputs": [],
   "source": [
    "# importando o numpy\n",
    "import numpy as np"
   ]
  },
  {
   "cell_type": "code",
   "execution_count": 3,
   "id": "13b8ea4f",
   "metadata": {},
   "outputs": [],
   "source": [
    "# a estrutura mais simmples do numpy é um array\n",
    "# semelhante a uma lista com apenas um tipo de dado\n",
    "lista = [1, 2, 3, 4, 5]\n",
    "array = np.array(lista)"
   ]
  },
  {
   "cell_type": "code",
   "execution_count": 4,
   "id": "1b384dcf",
   "metadata": {},
   "outputs": [
    {
     "name": "stdout",
     "output_type": "stream",
     "text": [
      "[1, 2, 3, 4, 5]\n",
      "[1 2 3 4 5]\n"
     ]
    }
   ],
   "source": [
    "# print normal\n",
    "print(lista)\n",
    "print(array)"
   ]
  },
  {
   "cell_type": "code",
   "execution_count": 5,
   "id": "1fcfb04b",
   "metadata": {},
   "outputs": [
    {
     "name": "stdout",
     "output_type": "stream",
     "text": [
      "<class 'list'>\n",
      "<class 'numpy.ndarray'>\n"
     ]
    }
   ],
   "source": [
    "#print exemplificando a diferença de tipos tipos\n",
    "print(type(lista))\n",
    "print(type(array))"
   ]
  },
  {
   "cell_type": "code",
   "execution_count": 6,
   "id": "08a40176",
   "metadata": {},
   "outputs": [
    {
     "name": "stdout",
     "output_type": "stream",
     "text": [
      "[0. 0. 0. 0. 0. 0. 0. 0. 0. 0.]\n"
     ]
    }
   ],
   "source": [
    "#outra forma de criar um array\n",
    "arr_zeros = np.zeros(10)\n",
    "print(arr_zeros)"
   ]
  },
  {
   "cell_type": "code",
   "execution_count": 7,
   "id": "3c16907f",
   "metadata": {},
   "outputs": [
    {
     "name": "stdout",
     "output_type": "stream",
     "text": [
      "1\n",
      "7\n"
     ]
    }
   ],
   "source": [
    "#pode ser alterado como listas\n",
    "print(array[0])\n",
    "array[0] = 7\n",
    "print(array[0])"
   ]
  },
  {
   "cell_type": "code",
   "execution_count": 8,
   "id": "c0a71f37",
   "metadata": {},
   "outputs": [
    {
     "name": "stdout",
     "output_type": "stream",
     "text": [
      "[[0. 0. 0.]\n",
      " [0. 0. 0.]\n",
      " [0. 0. 0.]\n",
      " [0. 0. 0.]\n",
      " [0. 0. 0.]]\n"
     ]
    }
   ],
   "source": [
    "#matriz também é muito usado\n",
    "#funciona similar a uma tabela com colunas e linhas\n",
    "#é definida por altura e comprimento (y, x)\n",
    "matriz_zeros = np.zeros((5,3))\n",
    "print(matriz_zeros)"
   ]
  },
  {
   "cell_type": "code",
   "execution_count": 10,
   "id": "3fe33c26",
   "metadata": {},
   "outputs": [],
   "source": [
    "#exemplo com notas\n",
    "\n",
    "lista_notas = [8.8, 9.7, 5.9, 4.7, 0.0, 7.3]\n",
    "notas = np.array(lista_notas)"
   ]
  },
  {
   "cell_type": "code",
   "execution_count": 12,
   "id": "d3a08e24",
   "metadata": {},
   "outputs": [
    {
     "name": "stdout",
     "output_type": "stream",
     "text": [
      "Maior nota 9.7\n",
      "Menor nota 0.0\n",
      "Desvio padrão 3.1857320805254306\n",
      "Média 6.066666666666666\n",
      "Posição menor 4\n"
     ]
    }
   ],
   "source": [
    "# apesar de numpy usar funções que são nativas de python\n",
    "# por já saber o tipo de dado o processamento é mais eficiente\n",
    "\n",
    "print(\"Maior nota\", notas.max())\n",
    "print(\"Menor nota\", notas.min())\n",
    "print(\"Desvio padrão\", notas.std())\n",
    "print(\"Média\", notas.mean())\n",
    "print(\"Posição menor\", notas.argmin())"
   ]
  },
  {
   "cell_type": "code",
   "execution_count": null,
   "id": "82499c78",
   "metadata": {},
   "outputs": [],
   "source": [
    "# desafio\n",
    "# solicita ao usuário 10 numeros como notas\n",
    "# transformar em numpy\n",
    "# fazer as operações de numpy"
   ]
  }
 ],
 "metadata": {
  "kernelspec": {
   "display_name": "Python 3 (ipykernel)",
   "language": "python",
   "name": "python3"
  },
  "language_info": {
   "codemirror_mode": {
    "name": "ipython",
    "version": 3
   },
   "file_extension": ".py",
   "mimetype": "text/x-python",
   "name": "python",
   "nbconvert_exporter": "python",
   "pygments_lexer": "ipython3",
   "version": "3.11.3"
  }
 },
 "nbformat": 4,
 "nbformat_minor": 5
}
