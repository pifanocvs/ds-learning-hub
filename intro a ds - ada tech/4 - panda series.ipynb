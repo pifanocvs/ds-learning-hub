{
 "cells": [
  {
   "cell_type": "code",
   "execution_count": 1,
   "id": "538c5eb3",
   "metadata": {},
   "outputs": [],
   "source": [
    "import pandas as pd"
   ]
  },
  {
   "cell_type": "code",
   "execution_count": 2,
   "id": "fadc06b0",
   "metadata": {},
   "outputs": [],
   "source": [
    "#a series do pandas é parecido com array com o numpy\n",
    "#só que alem de indexar o elemento, ele define em formato de lista\n",
    "# alem de tambem já printar o tipo do dado\n",
    "lista = [1, 3, 5, 7, 9]\n",
    "\n",
    "pd_series = pd.Series(lista)"
   ]
  },
  {
   "cell_type": "code",
   "execution_count": 3,
   "id": "5f577339",
   "metadata": {},
   "outputs": [
    {
     "name": "stdout",
     "output_type": "stream",
     "text": [
      "[1, 3, 5, 7, 9]\n",
      "0    1\n",
      "1    3\n",
      "2    5\n",
      "3    7\n",
      "4    9\n",
      "dtype: int64\n"
     ]
    }
   ],
   "source": [
    "#print demonstrativo\n",
    "print(lista)\n",
    "print(pd_series)"
   ]
  },
  {
   "cell_type": "code",
   "execution_count": 5,
   "id": "81ace23e",
   "metadata": {},
   "outputs": [],
   "source": [
    "#pelo panda series também é possivel usar o dicionario\n",
    "#só que nesse caso ao inves do index ser um numero, entra o primeiro elemento\n",
    "notas_dict = {'Mario': 8.7, 'Zacarias': 7.8, 'Cris': 9.9, 'Dante': 10}\n",
    "notas_series = pd.Series(notas_dict)"
   ]
  },
  {
   "cell_type": "code",
   "execution_count": 6,
   "id": "c281dbc5",
   "metadata": {},
   "outputs": [
    {
     "name": "stdout",
     "output_type": "stream",
     "text": [
      "{'Mario': 8.7, 'Zacarias': 7.8, 'Cris': 9.9, 'Dante': 10}\n",
      "Mario        8.7\n",
      "Zacarias     7.8\n",
      "Cris         9.9\n",
      "Dante       10.0\n",
      "dtype: float64\n"
     ]
    }
   ],
   "source": [
    "#print demosntrativo\n",
    "print(notas_dict)\n",
    "print(notas_series)"
   ]
  },
  {
   "cell_type": "code",
   "execution_count": 7,
   "id": "b3fa719c",
   "metadata": {},
   "outputs": [
    {
     "name": "stdout",
     "output_type": "stream",
     "text": [
      "9.9\n"
     ]
    }
   ],
   "source": [
    "#print demonstrativo de como pegar elemento\n",
    "print(notas_series['Cris'])"
   ]
  },
  {
   "cell_type": "code",
   "execution_count": 8,
   "id": "b9147a0c",
   "metadata": {},
   "outputs": [
    {
     "name": "stdout",
     "output_type": "stream",
     "text": [
      "Média 9.1\n",
      "Mediana 9.3\n"
     ]
    }
   ],
   "source": [
    "#é possivel fazer operações iguais do numpy por ser sua base\n",
    "#e adicionais como mediana\n",
    "print(\"Média\", notas_series.mean())\n",
    "print(\"Mediana\", notas_series.median())"
   ]
  },
  {
   "cell_type": "code",
   "execution_count": 9,
   "id": "e6f1fa32",
   "metadata": {},
   "outputs": [
    {
     "name": "stdout",
     "output_type": "stream",
     "text": [
      "Descrevendo:\n",
      "count     4.000000\n",
      "mean      9.100000\n",
      "std       1.048809\n",
      "min       7.800000\n",
      "25%       8.475000\n",
      "50%       9.300000\n",
      "75%       9.925000\n",
      "max      10.000000\n",
      "dtype: float64\n"
     ]
    }
   ],
   "source": [
    "#o describe é interessante por fazer um resumo descrevendo\n",
    "print(\"Descrevendo:\")\n",
    "print(notas_series.describe())"
   ]
  },
  {
   "cell_type": "code",
   "execution_count": null,
   "id": "deb2bc0a",
   "metadata": {},
   "outputs": [],
   "source": []
  }
 ],
 "metadata": {
  "kernelspec": {
   "display_name": "Python 3 (ipykernel)",
   "language": "python",
   "name": "python3"
  },
  "language_info": {
   "codemirror_mode": {
    "name": "ipython",
    "version": 3
   },
   "file_extension": ".py",
   "mimetype": "text/x-python",
   "name": "python",
   "nbconvert_exporter": "python",
   "pygments_lexer": "ipython3",
   "version": "3.11.3"
  }
 },
 "nbformat": 4,
 "nbformat_minor": 5
}
